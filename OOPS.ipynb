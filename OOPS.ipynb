{
  "nbformat": 4,
  "nbformat_minor": 0,
  "metadata": {
    "colab": {
      "provenance": []
    },
    "kernelspec": {
      "name": "python3",
      "display_name": "Python 3"
    },
    "language_info": {
      "name": "python"
    }
  },
  "cells": [
    {
      "cell_type": "markdown",
      "source": [
        "# **Python** **OOPs**\n",
        "\n",
        "1) What is Object-Oriented Programming (OOP)?\n",
        "   - Object-Oriented Programming is a programming paradigm based on the concept of objects\n",
        "that contain data and methods. It helps in organizing code using principles like inheritance,\n",
        "encapsulation, abstraction, and polymorphism.\n",
        "\n",
        "   - OOP helps organize code, promotes reuse through inheritance, and enables modularity and abstraction.\n",
        "\n",
        "2) What is a class in OOP?\n",
        "   - A class is a blueprint or template for creating objects. It defines properties (variables) and behaviors (methods) that the created objects will have.(A way of organizing information about a type of data so a programmer can reuse elements when making multiple instances of that data type).\n",
        "     \n",
        "   - Methods : These are the actions or behaviors that an object of the class can perform. For example, the Dog class might have methods like bark(), fetch(), or eat.\n",
        ""
      ],
      "metadata": {
        "id": "3d5BYipuUhHA"
      }
    },
    {
      "cell_type": "markdown",
      "source": [
        "3) What is an object in OOP?\n",
        "   - In Object-Oriented Programming(OOP), an object is  a self-contained unit that combines data (attributes) and the functions (methods) that operate on that data. it's essentially an instance of a class, representing a specific entity with its own state and behavior.\n",
        "\n",
        "- Objects interact with each other through message passing, where one object sends a request to another object to perform a specific action."
      ],
      "metadata": {
        "id": "xGRltL6CXJRH"
      }
    },
    {
      "cell_type": "markdown",
      "source": [
        "4) What is the difference between abstraction and encapsulation?\n",
        "   - **Abstaction** : hides the internal logic and shows only the functionality to the user.\n",
        "   - **Encapsulation** :  binds the data and methods together and restricts direct access to some of the object's components."
      ],
      "metadata": {
        "id": "XPOdfQy8ZVXg"
      }
    },
    {
      "cell_type": "markdown",
      "source": [
        "5)  What are dunder methods in Python?\n",
        "  - Dunder (double underscore) methods like __init__( ), __str__( ), __len__( ) are special methods used to perform built-in operations. They begin and end with double underscore.\n",
        "  - They are used to costomize the behavior of objects for buil-in operations."
      ],
      "metadata": {
        "id": "04cRAFSrDbDY"
      }
    },
    {
      "cell_type": "markdown",
      "source": [
        "6) Explain the concept of inheritance in OOP.\n",
        "   - Inheritance allows a class to inherit properties and methods from another class, enabling\n",
        "code reuse.\n",
        "   - It promotes code reuse and creates a hierarchical class structure."
      ],
      "metadata": {
        "id": "yJ2Dx6_2GrEK"
      }
    },
    {
      "cell_type": "markdown",
      "source": [
        "7) What is polymorphism in OOP?\n",
        "   - Polymorphism means the same method behaves differently for different objects, like\n",
        "method overriding.\n",
        "   - It enables the same interface to behave differently for classes."
      ],
      "metadata": {
        "id": "Y3VN3SUMIM4y"
      }
    },
    {
      "cell_type": "markdown",
      "source": [
        "8) How is encapsulation achieved in Python?\n",
        "   - Encapsulation is achieved using private variables with double underscores and providing\n",
        "getter/setter methods.\n",
        "   - It restricts access to internal object details and allows controlled access via methods."
      ],
      "metadata": {
        "id": "gm99t9WiJiqm"
      }
    },
    {
      "cell_type": "markdown",
      "source": [
        "9) What is a constructor in Python?\n",
        "   - A constructor is a special method (__init__) that runs when an object is created, initializing\n",
        "attributes.\n",
        "   - It runs automatically when a new instance ofmthe class is created."
      ],
      "metadata": {
        "id": "d4r1TQV8ohHE"
      }
    },
    {
      "cell_type": "markdown",
      "source": [
        "10) What are class and static methods in Python?\n",
        "  - **Class methods** use @classmethod and take cls as the first argument. They can modify class state.\n",
        "  - **static methods** use\n",
        "@staticmethod and don’t access class or instance."
      ],
      "metadata": {
        "id": "Mliq9C1zow1d"
      }
    },
    {
      "cell_type": "markdown",
      "source": [
        "11) What is method overloading in Python?\n",
        "   - Python doesn't support true method overloading. It can be simulated with default\n",
        "arguments or *args.\n",
        "   - Method overloading refers to defining multiple methods with the same name but different arguments."
      ],
      "metadata": {
        "id": "Pp5ilcbQsLsQ"
      }
    },
    {
      "cell_type": "markdown",
      "source": [
        "12) What is method overriding in OOP?\n",
        "   - Method overriding allows a child class to redefine a method of its parent class.\n",
        "   - It allow subclass to modify or extend the behavior of the base class method."
      ],
      "metadata": {
        "id": "P5Ma-Q1ctWEC"
      }
    },
    {
      "cell_type": "markdown",
      "source": [
        "13) What is a property decorator in Python?\n",
        "   - The @property decorator makes a method act like an attribute, allowing controlled access.\n",
        "   - It is used to implement getter, setter, and deleter functionalities in a clean and readable way."
      ],
      "metadata": {
        "id": "hMuoQy4Tugbg"
      }
    },
    {
      "cell_type": "markdown",
      "source": [
        "14) Why is polymorphism important in OOP?\n",
        "   - Polymorphism allows the same interface to be used for different underlying types,\n",
        "improving flexibility.\n",
        "   - Polymorphism supports the design of systems that are easier to scale and modify."
      ],
      "metadata": {
        "id": "LPlh91kPwVM2"
      }
    },
    {
      "cell_type": "markdown",
      "source": [
        "15) What is an abstract class in Python?\n",
        "   - An abstract class has at least one abstract method and can't be instantiated. Used to define\n",
        "base behavior.\n",
        "   - It contains one or more abstract methods that must be implemented by subclasses."
      ],
      "metadata": {
        "id": "Ne31NqPox6Fr"
      }
    },
    {
      "cell_type": "markdown",
      "source": [
        "16) What are the advantages of OOP?\n",
        "   - OOP offers modularity, reusability, scalability, and easier debugging through objects and\n",
        "classes.\n",
        "   - Encapsulation improves security and prevents accidental changes."
      ],
      "metadata": {
        "id": "j5eEvorpyw3u"
      }
    },
    {
      "cell_type": "markdown",
      "source": [
        "17) What is the difference between a class variable and an instance variable?\n",
        "   - Class variables are shared across all objects, while instance variables are unique to each\n",
        "object.\n",
        "   - Instance variables are unique to each object and defined within the constructor using self."
      ],
      "metadata": {
        "id": "NERbk6lQy8oz"
      }
    },
    {
      "cell_type": "markdown",
      "source": [
        "18) What is multiple inheritance in Python?\n",
        "  - Multiple inheritance allows a class to inherit from more than one parent class.\n",
        "  - It allows a class to combine behaviors and properties from multiple sources."
      ],
      "metadata": {
        "id": "4uZeNwlLzzvK"
      }
    },
    {
      "cell_type": "markdown",
      "source": [
        "19) Explain the purpose of ‘’__str__’ and ‘__repr__’ ‘ methods in Python.\n",
        "   - __str__ is used to return a user-friendly string representation of an object.\n",
        "   - __repr__ returns a developer-friendly string for debugging.\n",
        "\n",
        "\n"
      ],
      "metadata": {
        "id": "LSaryjUa0n74"
      }
    },
    {
      "cell_type": "markdown",
      "source": [
        "20) What is the significance of the ‘super( )’ function in Python?\n",
        "   - The super( ) function is used to call methods of the parent class. It is mostly used in method overriding and constructors.\n",
        "   - It is commonly used in constructors to initialize parent class attributes.\n"
      ],
      "metadata": {
        "id": "0NHM25M03KWk"
      }
    },
    {
      "cell_type": "markdown",
      "source": [
        "21) What is the significance of the __del__ method in Python?\n",
        "   - The __del__( ) method is called is called when an object is destroyed (garbage collected).\n",
        "   - It is like a destructor, used to clean up resources like files or database connections."
      ],
      "metadata": {
        "id": "-Xksn63644IY"
      }
    },
    {
      "cell_type": "markdown",
      "source": [
        "22) What is the difference between @staticmethod and @classmethod in Python?\n",
        "   - @staticmethod does not take any special first parameter and cannot access class or instance data.\n",
        "   - @classmethod takes cls as the first parameter and can access or modify class state."
      ],
      "metadata": {
        "id": "iIxUncXZ6HgH"
      }
    },
    {
      "cell_type": "markdown",
      "source": [
        "23) How does polymorphism work in Python with inheritance?\n",
        "   - Child classes can override parent methods; objects behave differently based on their class.\n",
        "   - A single function can operate on objects of different classes as long as they follow a common interface."
      ],
      "metadata": {
        "id": "DH9PwGYN7Ch0"
      }
    },
    {
      "cell_type": "markdown",
      "source": [
        "24) What is method chaining in Python OOP?\n",
        "   - Method chaining allows calling multiple methods on an object by returning self from each\n",
        "method.\n",
        "   - Each method returns self to allow the chain to continue."
      ],
      "metadata": {
        "id": "qjB8UNbb79dI"
      }
    },
    {
      "cell_type": "markdown",
      "source": [
        "25) What is the purpose of the __call__ method in Python?\n",
        "   - __call__ makes an instance behave like a function when used with parentheses.\n",
        "   - It is useful for creating callable objects or function-like classes."
      ],
      "metadata": {
        "id": "fMJai1z394sq"
      }
    },
    {
      "cell_type": "markdown",
      "source": [
        "# **Practical** **Questions**\n",
        "\n",
        "1) Create a parent class Animal with a method speak() that prints a generic message. Create a child class Dog\n",
        "that overrides the speak() method to print \"Bark!\"."
      ],
      "metadata": {
        "id": "J-xnLZQR-m1h"
      }
    },
    {
      "cell_type": "code",
      "source": [
        "# Parent class\n",
        "class Animal:\n",
        "    def speak(self):\n",
        "        print(\"The animal makes a sound.\")\n",
        "\n",
        "# Child class\n",
        "class Dog(Animal):\n",
        "    def speak(self):\n",
        "        print(\"Bark!\")\n",
        "\n",
        "# Testing the classes\n",
        "a = Animal()\n",
        "a.speak()\n",
        "\n",
        "d = Dog()\n",
        "d.speak()"
      ],
      "metadata": {
        "colab": {
          "base_uri": "https://localhost:8080/"
        },
        "id": "K6iRHC_7_1vx",
        "outputId": "186cf7f6-482f-4b15-9622-92b402e71423"
      },
      "execution_count": null,
      "outputs": [
        {
          "output_type": "stream",
          "name": "stdout",
          "text": [
            "The animal makes a sound.\n",
            "Bark!\n"
          ]
        }
      ]
    },
    {
      "cell_type": "markdown",
      "source": [
        "2) Write a program to create an abstract class Shape with a method area(). Derive classes Circle and Rectangle\n",
        "from it and implement the area() method in both."
      ],
      "metadata": {
        "id": "I5XUnSbJAz3s"
      }
    },
    {
      "cell_type": "code",
      "source": [
        "from abc import ABC, abstractmethod\n",
        "\n",
        "class Shape(ABC):\n",
        "    @abstractmethod\n",
        "    def area(self):\n",
        "        pass\n",
        "\n",
        "class Circle(Shape):\n",
        "    def __init__(self, radius):\n",
        "        self.radius = radius\n",
        "\n",
        "    def area(self):\n",
        "        return 3.14 * self.radius ** 2\n",
        "\n",
        "class Rectangle(Shape):\n",
        "    def __init__(self, length, width):\n",
        "        self.length = length\n",
        "        self.width = width\n",
        "\n",
        "    def area(self):\n",
        "        return self.length * self.width\n",
        "circle = Circle(5)\n",
        "print(circle.area())\n",
        "\n",
        "rectangle = Rectangle(4, 6)\n",
        "print(rectangle.area())"
      ],
      "metadata": {
        "colab": {
          "base_uri": "https://localhost:8080/"
        },
        "id": "u7OXDJQKCMll",
        "outputId": "acd975ad-2835-421e-e722-1273df73ee0f"
      },
      "execution_count": null,
      "outputs": [
        {
          "output_type": "stream",
          "name": "stdout",
          "text": [
            "78.5\n",
            "24\n"
          ]
        }
      ]
    },
    {
      "cell_type": "markdown",
      "source": [
        "3) Implement a multi-level inheritance scenario where a class Vehicle has an attribute type. Derive a class Car\n",
        "and further derive a class ElectricCar that adds a battery attribute."
      ],
      "metadata": {
        "id": "opP6ahNVCz9B"
      }
    },
    {
      "cell_type": "code",
      "source": [
        "class Vehicle:\n",
        "    def __init__(self, type):\n",
        "        self.type = type\n",
        "\n",
        "class Car(Vehicle):\n",
        "    def __init__(self, type, brand):\n",
        "        super().__init__(type)\n",
        "        self.brand = brand\n",
        "\n",
        "class ElectricCar(Car):\n",
        "    def __init__(self, type, brand, battery):\n",
        "        super().__init__(type, brand)\n",
        "        self.battery = battery\n",
        "\n",
        "# Output\n",
        "e_car = ElectricCar(\"Four Wheeler\", \"Tesla\", \"85 kWh\")\n",
        "print(e_car.type, e_car.brand, e_car.battery)"
      ],
      "metadata": {
        "colab": {
          "base_uri": "https://localhost:8080/"
        },
        "id": "tYeuH9rfI4CH",
        "outputId": "09765b0d-aebb-41a9-c5e0-86ffd5ff09ca"
      },
      "execution_count": null,
      "outputs": [
        {
          "output_type": "stream",
          "name": "stdout",
          "text": [
            "Four Wheeler Tesla 85 kWh\n"
          ]
        }
      ]
    },
    {
      "cell_type": "markdown",
      "source": [
        "4)  Demonstrate polymorphism by creating a base class Bird with a method fly(). Create two derived classes\n",
        "Sparrow and Penguin that override the fly() method.\n"
      ],
      "metadata": {
        "id": "aYXVJAafFb_8"
      }
    },
    {
      "cell_type": "code",
      "source": [
        "class Bird:\n",
        "    def fly(self):\n",
        "        print(\"Some birds can fly\")\n",
        "\n",
        "class Sparrow(Bird):\n",
        "    def fly(self):\n",
        "        print(\"Sparrow can fly\")\n",
        "\n",
        "class Penguin(Bird):\n",
        "    def fly(self):\n",
        "        print(\"Penguin can't fly\")\n",
        "\n",
        "# Output\n",
        "b1 = Sparrow()\n",
        "b2 = Penguin()\n",
        "b1.fly()\n",
        "b2.fly()"
      ],
      "metadata": {
        "colab": {
          "base_uri": "https://localhost:8080/"
        },
        "id": "pY0cuUxYFgL_",
        "outputId": "6fc71ce0-b773-4981-f091-e6ee6327c3ae"
      },
      "execution_count": null,
      "outputs": [
        {
          "output_type": "stream",
          "name": "stdout",
          "text": [
            "Sparrow can fly\n",
            "Penguin can't fly\n"
          ]
        }
      ]
    },
    {
      "cell_type": "markdown",
      "source": [
        "5) Write a program to demonstrate encapsulation by creating a class BankAccount with private attributes\n",
        "balance and methods to deposit, withdraw, and check balance."
      ],
      "metadata": {
        "id": "DDR6WM7sFghS"
      }
    },
    {
      "cell_type": "code",
      "source": [
        "class BankAccount:\n",
        "    def __init__(self, balance):\n",
        "        self.__balance = balance\n",
        "\n",
        "    def deposit(self, amount):\n",
        "        self.__balance += amount\n",
        "\n",
        "    def withdraw(self, amount):\n",
        "        if amount <= self.__balance:\n",
        "            self.__balance -= amount\n",
        "        else:\n",
        "            print(\"Insufficient balance\")\n",
        "\n",
        "    def get_balance(self):\n",
        "        return self.__balance\n",
        "\n",
        "# Output\n",
        "acc = BankAccount(1000)\n",
        "acc.deposit(500)\n",
        "acc.withdraw(300)\n",
        "print(\"Balance:\", acc.get_balance())"
      ],
      "metadata": {
        "colab": {
          "base_uri": "https://localhost:8080/"
        },
        "id": "MN4hQTW-Fk_S",
        "outputId": "ae4153a4-9ef4-47bc-e4a0-7a1551e49777"
      },
      "execution_count": 44,
      "outputs": [
        {
          "output_type": "stream",
          "name": "stdout",
          "text": [
            "Balance: 1200\n"
          ]
        }
      ]
    },
    {
      "cell_type": "markdown",
      "source": [
        "6)  Demonstrate runtime polymorphism using a method play() in a base class Instrument. Derive classes Guitar\n",
        "and Piano that implement their own version of play()."
      ],
      "metadata": {
        "id": "qhKi6mCLFlZw"
      }
    },
    {
      "cell_type": "code",
      "source": [
        "class Instrument:\n",
        "    def play(self):\n",
        "        print(\"Instrument is playing\")\n",
        "\n",
        "class Guitar(Instrument):\n",
        "    def play(self):\n",
        "        print(\"Guitar is playing\")\n",
        "\n",
        "class Piano(Instrument):\n",
        "    def play(self):\n",
        "        print(\"Piano is playing\")\n",
        "\n",
        "# Output\n",
        "inst1 = Guitar()\n",
        "inst2 = Piano()\n",
        "inst1.play()\n",
        "inst2.play()"
      ],
      "metadata": {
        "colab": {
          "base_uri": "https://localhost:8080/"
        },
        "id": "jb-_XJ-BFqP4",
        "outputId": "ec3ce660-f668-49e4-c088-87f9372e74c9"
      },
      "execution_count": null,
      "outputs": [
        {
          "output_type": "stream",
          "name": "stdout",
          "text": [
            "Guitar is playing\n",
            "Piano is playing\n"
          ]
        }
      ]
    },
    {
      "cell_type": "markdown",
      "source": [
        "7)  Create a class MathOperations with a class method add_numbers() to add two numbers and a static\n",
        "method subtract_numbers() to subtract two numbers."
      ],
      "metadata": {
        "id": "dyJWS7ZtFquC"
      }
    },
    {
      "cell_type": "code",
      "source": [
        "class MathOperations:\n",
        "    @classmethod\n",
        "    def add_numbers(cls, a, b):\n",
        "        return a + b\n",
        "\n",
        "    @staticmethod\n",
        "    def subtract_numbers(a, b):\n",
        "        return a - b\n",
        "\n",
        "# Output\n",
        "print(\"Addition:\", MathOperations.add_numbers(15, 5))\n",
        "print(\"Subtraction:\", MathOperations.subtract_numbers(15, 5))"
      ],
      "metadata": {
        "colab": {
          "base_uri": "https://localhost:8080/"
        },
        "id": "5244yp8cFvEA",
        "outputId": "5066e4b5-264e-4faf-e077-5ab1ededa480"
      },
      "execution_count": null,
      "outputs": [
        {
          "output_type": "stream",
          "name": "stdout",
          "text": [
            "Addition: 20\n",
            "Subtraction: 10\n"
          ]
        }
      ]
    },
    {
      "cell_type": "markdown",
      "source": [
        "8) Implement a class Person with a class method to count the total number of persons created."
      ],
      "metadata": {
        "id": "Tm-r7-PYFvU-"
      }
    },
    {
      "cell_type": "code",
      "source": [
        "class Person:\n",
        "    count = 0\n",
        "\n",
        "    def __init__(self, name):\n",
        "        Person.count += 1\n",
        "\n",
        "    @classmethod\n",
        "    def total_persons(cls):\n",
        "        return cls.count\n",
        "\n",
        "# Output\n",
        "p1 = Person(\"sanjana\")\n",
        "p2 = Person(\"aarti\")\n",
        "p3 = Person(\"aashutosh\")\n",
        "print(\"Total Persons:\", Person.total_persons())"
      ],
      "metadata": {
        "colab": {
          "base_uri": "https://localhost:8080/"
        },
        "id": "-Rhe-ZBTLAk-",
        "outputId": "f90f22ee-fa6b-4b07-99fa-8da267039712"
      },
      "execution_count": 48,
      "outputs": [
        {
          "output_type": "stream",
          "name": "stdout",
          "text": [
            "Total Persons: 3\n"
          ]
        }
      ]
    },
    {
      "cell_type": "markdown",
      "source": [
        "9)  Write a class Fraction with attributes numerator and denominator. Override the str method to display the\n",
        "fraction as \"numerator/denominator\"."
      ],
      "metadata": {
        "id": "WgzwtkaTGG1P"
      }
    },
    {
      "cell_type": "code",
      "source": [
        "class Fraction:\n",
        "    def __init__(self, numerator, denominator):\n",
        "        self.numerator = numerator\n",
        "        self.denominator = denominator\n",
        "\n",
        "    def __str__(self):\n",
        "        return f\"{self.numerator}/{self.denominator}\"\n",
        "\n",
        "# Output\n",
        "f = Fraction(3, 4)\n",
        "print(\"Fraction:\", f)"
      ],
      "metadata": {
        "colab": {
          "base_uri": "https://localhost:8080/"
        },
        "id": "SeM8yNCDGGgd",
        "outputId": "6951dc2e-efee-48fe-9708-150c6a96f5fc"
      },
      "execution_count": null,
      "outputs": [
        {
          "output_type": "stream",
          "name": "stdout",
          "text": [
            "Fraction: 3/4\n"
          ]
        }
      ]
    },
    {
      "cell_type": "markdown",
      "source": [
        "10)  Demonstrate operator overloading by creating a class Vector and overriding the add method to add two\n",
        "vectors."
      ],
      "metadata": {
        "id": "krPcKdqaGVew"
      }
    },
    {
      "cell_type": "code",
      "source": [
        "class Vector:\n",
        "    def __init__(self, x, y):\n",
        "        self.x = x\n",
        "        self.y = y\n",
        "\n",
        "    def __add__(self, other):\n",
        "        return Vector(self.x + other.x, self.y + other.y)\n",
        "\n",
        "    def __str__(self):\n",
        "        return f\"({self.x}, {self.y})\"\n",
        "\n",
        "# Output\n",
        "v1 = Vector(3, 3)\n",
        "v2 = Vector(4, 2)\n",
        "v3 = v1 + v2\n",
        "print(\"Vector Sum:\", v3)"
      ],
      "metadata": {
        "colab": {
          "base_uri": "https://localhost:8080/"
        },
        "id": "zYGSngT9GZZs",
        "outputId": "50203753-70fc-43bb-d1be-3e62be59fa6c"
      },
      "execution_count": null,
      "outputs": [
        {
          "output_type": "stream",
          "name": "stdout",
          "text": [
            "Vector Sum: (7, 5)\n"
          ]
        }
      ]
    },
    {
      "cell_type": "markdown",
      "source": [
        "11) Create a class Person with attributes name and age. Add a method greet() that prints \"Hello, my name is\n",
        "{name} and I am {age} years old.\""
      ],
      "metadata": {
        "id": "EEXdUet2GZ8s"
      }
    },
    {
      "cell_type": "code",
      "source": [
        "class Person:\n",
        "    def __init__(self, name, age):\n",
        "        self.name = name\n",
        "        self.age = age\n",
        "\n",
        "    def greet(self):\n",
        "        print(f\"Hello, my name is {self.name} and I am {self.age} years old.\")\n",
        "\n",
        "# Example usage\n",
        "p = Person(\"Sanjana\", 20)\n",
        "p.greet()"
      ],
      "metadata": {
        "id": "bNA1DgTRMdT6",
        "colab": {
          "base_uri": "https://localhost:8080/"
        },
        "outputId": "3aaa52fd-5856-4922-d8a6-f5bedda399c4"
      },
      "execution_count": null,
      "outputs": [
        {
          "output_type": "stream",
          "name": "stdout",
          "text": [
            "Hello, my name is Sanjana and I am 20 years old.\n"
          ]
        }
      ]
    },
    {
      "cell_type": "markdown",
      "source": [
        "12)  Implement a class Student with attributes name and grades. Create a method average_grade() to compute\n",
        "the average of the grades."
      ],
      "metadata": {
        "id": "tEBvEIxaMdpl"
      }
    },
    {
      "cell_type": "code",
      "source": [
        "class Student:\n",
        "    def __init__(self, name, grades):\n",
        "        self.name = name\n",
        "        self.grades = grades\n",
        "\n",
        "    def average_grade(self):\n",
        "        return sum(self.grades) / len(self.grades)\n",
        "\n",
        "# Example usage\n",
        "s = Student(\"Aarti\", [80, 90, 85])\n",
        "print(f\"{s.name}'s avarage grade is: {s.average_grade()}\")"
      ],
      "metadata": {
        "id": "ubQ5735VMhku",
        "colab": {
          "base_uri": "https://localhost:8080/"
        },
        "outputId": "ef1e5942-4402-43c3-b917-500159f2b7b3"
      },
      "execution_count": null,
      "outputs": [
        {
          "output_type": "stream",
          "name": "stdout",
          "text": [
            "Aarti's avarage grade is: 85.0\n"
          ]
        }
      ]
    },
    {
      "cell_type": "markdown",
      "source": [
        "13)  Create a class Rectangle with methods set_dimensions() to set the dimensions and area() to calculate the\n",
        "area."
      ],
      "metadata": {
        "id": "4JYYFvoQMh-X"
      }
    },
    {
      "cell_type": "code",
      "source": [
        "class Rectangle:\n",
        "    def set_dimensions(self, width, height):\n",
        "        self.width = width\n",
        "        self.height = height\n",
        "\n",
        "    def area(self):\n",
        "        return self.width * self.height\n",
        "\n",
        "# Example usage\n",
        "r = Rectangle()\n",
        "r.set_dimensions(4, 5)\n",
        "print(f\"Area of rectangle:{r.area()}\")"
      ],
      "metadata": {
        "id": "SzgZBojhMmI0",
        "colab": {
          "base_uri": "https://localhost:8080/"
        },
        "outputId": "f6d925d2-45bc-472a-8fa5-c724a6008637"
      },
      "execution_count": null,
      "outputs": [
        {
          "output_type": "stream",
          "name": "stdout",
          "text": [
            "Area of rectangle:20\n"
          ]
        }
      ]
    },
    {
      "cell_type": "markdown",
      "source": [
        "14)  Create a class Employee with a method calculate_salary() that computes the salary based on hours worked\n",
        "and hourly rate. Create a derived class Manager that adds a bonus to the salary."
      ],
      "metadata": {
        "id": "El7VEWGeMmob"
      }
    },
    {
      "cell_type": "code",
      "source": [
        "class Emlopyee:\n",
        "    def __init__(self, hours, rate):\n",
        "        self.hours = hours\n",
        "        self.rate = rate\n",
        "\n",
        "    def calculate_salary(self):\n",
        "        return self.hours * self.rate\n",
        "\n",
        "class Manager(Emlopyee):\n",
        "    def __init__(self, hours, rate, bonus):\n",
        "        super().__init__(hours, rate)\n",
        "        self.bonus = bonus\n",
        "\n",
        "    def calculate_salary(self):\n",
        "        return super().calculate_salary() + self.bonus\n",
        "\n",
        "# Example usage\n",
        "e = Emlopyee(40, 15)\n",
        "m = Manager(40, 15, 1000)\n",
        "print(f\"Employee salary: {e.calculate_salary()}\")\n",
        "print(f\"Manager salary: {m.calculate_salary()}\")\n"
      ],
      "metadata": {
        "id": "MAt02QynMrHH",
        "colab": {
          "base_uri": "https://localhost:8080/"
        },
        "outputId": "bb48eccf-f58f-4a39-fede-24bd54cf0039"
      },
      "execution_count": null,
      "outputs": [
        {
          "output_type": "stream",
          "name": "stdout",
          "text": [
            "Employee salary: 600\n",
            "Manager salary: 1600\n"
          ]
        }
      ]
    },
    {
      "cell_type": "markdown",
      "source": [
        "15)  Create a class Product with attributes name, price, and quantity. Implement a method total_price() that\n",
        "calculates the total price of the product.\n",
        "\n",
        "\n"
      ],
      "metadata": {
        "id": "Viv6xB4iMrX_"
      }
    },
    {
      "cell_type": "code",
      "source": [
        "class Product:\n",
        "    def __init__(self, name, price, quantity):\n",
        "        self.name = name\n",
        "        self.price = price\n",
        "        self.quantity = quantity\n",
        "\n",
        "    def total_price(self):\n",
        "        return self.price * self.quantity\n",
        "\n",
        "# Example usage\n",
        "p = Product(\"Laptop\", 1000,5)\n",
        "print(f\"Total price: {p.total_price()}\")"
      ],
      "metadata": {
        "id": "jAqohrN3MvWJ",
        "colab": {
          "base_uri": "https://localhost:8080/"
        },
        "outputId": "ab858a2d-696f-496a-f99f-945eead6238b"
      },
      "execution_count": null,
      "outputs": [
        {
          "output_type": "stream",
          "name": "stdout",
          "text": [
            "Total price: 5000\n"
          ]
        }
      ]
    },
    {
      "cell_type": "markdown",
      "source": [
        "16) Create a class Animal with an abstract method sound(). Create two derived classes Cow and Sheep that\n",
        "implement the sound() method."
      ],
      "metadata": {
        "id": "eVrtluToMvxm"
      }
    },
    {
      "cell_type": "code",
      "source": [
        "from abc import ABC, abstractmethod\n",
        "\n",
        "class Animal(ABC):\n",
        "    @abstractmethod\n",
        "    def sound(self):\n",
        "        pass\n",
        "\n",
        "class Cow(Animal):\n",
        "    def sound(self):\n",
        "        print(\"Moo!\")\n",
        "\n",
        "class Sheep(Animal):\n",
        "    def sound(self):\n",
        "        print(\"Baa!\")\n",
        "\n",
        "# Example usage\n",
        "c = Cow()\n",
        "s = Sheep()\n",
        "print(\"Cow:\")\n",
        "c.sound()\n",
        "print(\"Sheep:\")\n",
        "s.sound()"
      ],
      "metadata": {
        "id": "hwft_jH8MzgP",
        "colab": {
          "base_uri": "https://localhost:8080/"
        },
        "outputId": "ef0d13a1-efa9-4f32-ff51-2b2623d265f9"
      },
      "execution_count": null,
      "outputs": [
        {
          "output_type": "stream",
          "name": "stdout",
          "text": [
            "Cow:\n",
            "Moo!\n",
            "Sheep:\n",
            "Baa!\n"
          ]
        }
      ]
    },
    {
      "cell_type": "markdown",
      "source": [
        "17)  Create a class Book with attributes title, author, and year_published. Add a method get_book_info() that\n",
        "returns a formatted string with the book's details."
      ],
      "metadata": {
        "id": "2jz_Ev52Mzx-"
      }
    },
    {
      "cell_type": "code",
      "source": [
        "class Book:\n",
        "    def __init__(self, title, author, year_published):\n",
        "        self.title = title\n",
        "        self.author = author\n",
        "        self.year_published = year_published\n",
        "\n",
        "    def get_book_info(self):\n",
        "        return f\"{self.title} by {self.author}, published in {self.year_published}\"\n",
        "\n",
        "# Example usage\n",
        "b = Book(\"The Alchemist\", \"Paulo Coelho\", 1988)\n",
        "print(b.get_book_info())  # Output: \"The Alchemist by Paulo Coelho, published in 1988"
      ],
      "metadata": {
        "id": "kA-duba2M3gQ",
        "colab": {
          "base_uri": "https://localhost:8080/"
        },
        "outputId": "05e8ae88-8d22-42eb-8557-c6e6c3b7677a"
      },
      "execution_count": null,
      "outputs": [
        {
          "output_type": "stream",
          "name": "stdout",
          "text": [
            "The Alchemist by Paulo Coelho, published in 1988\n"
          ]
        }
      ]
    },
    {
      "cell_type": "markdown",
      "source": [
        "18)  Create a class House with attributes address and price. Create a derived class Mansion that adds an\n",
        "attribute number_of_rooms."
      ],
      "metadata": {
        "id": "WlRtXjTZM3wE"
      }
    },
    {
      "cell_type": "code",
      "source": [
        "class House:\n",
        "    def __init__(self, address, price):\n",
        "        self.address = address\n",
        "        self.price = price\n",
        "\n",
        "class Mansion(House):\n",
        "    def __init__(self, address, price, number_of_rooms):\n",
        "        super().__init__(address, price)\n",
        "        self.number_of_rooms = number_of_rooms\n",
        "\n",
        "# Example usage\n",
        "m = Mansion(\"123 Luxury St\", 1000000, 10)\n",
        "print(f\"Mansion at {m.address} costs {m.price} and has {m.number_of_rooms} rooms.\")"
      ],
      "metadata": {
        "id": "PmZg996CM7i0",
        "colab": {
          "base_uri": "https://localhost:8080/"
        },
        "outputId": "c4d9e337-7c32-4f1a-8505-e6102b1ec4ee"
      },
      "execution_count": null,
      "outputs": [
        {
          "output_type": "stream",
          "name": "stdout",
          "text": [
            "Mansion at 123 Luxury St costs 1000000 and has 10 rooms.\n"
          ]
        }
      ]
    }
  ]
}